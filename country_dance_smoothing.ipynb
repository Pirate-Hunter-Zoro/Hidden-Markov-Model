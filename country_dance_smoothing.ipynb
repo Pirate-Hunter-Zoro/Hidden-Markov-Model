{
 "cells": [
  {
   "cell_type": "markdown",
   "metadata": {},
   "source": [
    "### This notebook showcases the Smoothing algorithm as it modifies past hidden state predictions based on more observations."
   ]
  },
  {
   "cell_type": "code",
   "execution_count": 4,
   "metadata": {},
   "outputs": [],
   "source": [
    "from hidden_markov_helper import *\n",
    "from constants import *\n",
    "import pandas as pd\n",
    "\n",
    "def run_country_dance(observations: list[int]):\n",
    "    \"\"\"Helper method to run the country dance smoothing algorithm for a probability distribution of each hidden state.\n",
    "\n",
    "    Args:\n",
    "        observations (list[int]): list of observations values\n",
    "    \"\"\"\n",
    "    print(\"observations:\\n\", [Observation_String_Map[e] for e in observations])\n",
    "    probabilities = country_dance_smoothing(observations=observations)\n",
    "    index_names = [\"Enough Sleep\", \"Not Enough Sleep\"]\n",
    "    print(\"State Probability Distributions Over Time:\")\n",
    "    for arr in probabilities:\n",
    "        print(pd.DataFrame(arr, index=index_names))"
   ]
  },
  {
   "cell_type": "code",
   "execution_count": 5,
   "metadata": {},
   "outputs": [
    {
     "name": "stdout",
     "output_type": "stream",
     "text": [
      "observations:\n",
      " ['No Red Eyes, No Sleep in Class', 'Red Eyes, No Sleep in Class']\n",
      "State Probability Distributions Over Time:\n",
      "                         0\n",
      "Enough Sleep      0.766987\n",
      "Not Enough Sleep  0.233013\n",
      "                         0\n",
      "Enough Sleep      0.795139\n",
      "Not Enough Sleep  0.204861\n",
      "                         0\n",
      "Enough Sleep      0.501006\n",
      "Not Enough Sleep  0.498994\n"
     ]
    }
   ],
   "source": [
    "run_country_dance(observations=[3,1])"
   ]
  },
  {
   "cell_type": "code",
   "execution_count": 6,
   "metadata": {},
   "outputs": [
    {
     "name": "stdout",
     "output_type": "stream",
     "text": [
      "observations:\n",
      " ['Red Eyes, No Sleep in Class', 'Red Eyes, No Sleep in Class', 'Red Eyes, No Sleep in Class', 'Red Eyes, Sleep in Class', 'Red Eyes, No Sleep in Class', 'Red Eyes, Sleep in Class', 'No Red Eyes, Sleep in Class', 'Red Eyes, No Sleep in Class', 'No Red Eyes, No Sleep in Class', 'No Red Eyes, No Sleep in Class']\n",
      "State Probability Distributions Over Time:\n",
      "                         0\n",
      "Enough Sleep      0.504185\n",
      "Not Enough Sleep  0.495815\n",
      "                         0\n",
      "Enough Sleep      0.225735\n",
      "Not Enough Sleep  0.774265\n",
      "                         0\n",
      "Enough Sleep      0.129854\n",
      "Not Enough Sleep  0.870146\n",
      "                         0\n",
      "Enough Sleep      0.084421\n",
      "Not Enough Sleep  0.915579\n",
      "                         0\n",
      "Enough Sleep      0.026828\n",
      "Not Enough Sleep  0.973172\n",
      "                         0\n",
      "Enough Sleep      0.062607\n",
      "Not Enough Sleep  0.937393\n",
      "                         0\n",
      "Enough Sleep      0.047713\n",
      "Not Enough Sleep  0.952287\n",
      "                         0\n",
      "Enough Sleep      0.269434\n",
      "Not Enough Sleep  0.730566\n",
      "                         0\n",
      "Enough Sleep      0.374749\n",
      "Not Enough Sleep  0.625251\n",
      "                         0\n",
      "Enough Sleep      0.806047\n",
      "Not Enough Sleep  0.193953\n",
      "                         0\n",
      "Enough Sleep      0.866677\n",
      "Not Enough Sleep  0.133323\n"
     ]
    }
   ],
   "source": [
    "run_country_dance(observations=[1, 1, 1, 0, 1, 0, 2, 1, 3, 3])"
   ]
  },
  {
   "cell_type": "code",
   "execution_count": 7,
   "metadata": {},
   "outputs": [
    {
     "name": "stdout",
     "output_type": "stream",
     "text": [
      "observations:\n",
      " ['No Red Eyes, No Sleep in Class', 'No Red Eyes, No Sleep in Class', 'No Red Eyes, No Sleep in Class', 'No Red Eyes, Sleep in Class', 'No Red Eyes, Sleep in Class', 'Red Eyes, Sleep in Class', 'Red Eyes, Sleep in Class', 'Red Eyes, No Sleep in Class', 'No Red Eyes, No Sleep in Class', 'No Red Eyes, Sleep in Class']\n",
      "State Probability Distributions Over Time:\n",
      "                         0\n",
      "Enough Sleep      0.826634\n",
      "Not Enough Sleep  0.173366\n",
      "                         0\n",
      "Enough Sleep      0.924374\n",
      "Not Enough Sleep  0.075626\n",
      "                         0\n",
      "Enough Sleep      0.933104\n",
      "Not Enough Sleep  0.066896\n",
      "                         0\n",
      "Enough Sleep      0.878267\n",
      "Not Enough Sleep  0.121733\n",
      "                         0\n",
      "Enough Sleep      0.600049\n",
      "Not Enough Sleep  0.399951\n",
      "                         0\n",
      "Enough Sleep      0.362892\n",
      "Not Enough Sleep  0.637108\n",
      "                         0\n",
      "Enough Sleep      0.052895\n",
      "Not Enough Sleep  0.947105\n",
      "                         0\n",
      "Enough Sleep      0.041387\n",
      "Not Enough Sleep  0.958613\n",
      "                         0\n",
      "Enough Sleep      0.228804\n",
      "Not Enough Sleep  0.771196\n",
      "                         0\n",
      "Enough Sleep      0.660209\n",
      "Not Enough Sleep  0.339791\n",
      "                         0\n",
      "Enough Sleep      0.609021\n",
      "Not Enough Sleep  0.390979\n"
     ]
    }
   ],
   "source": [
    "run_country_dance(observations=[3, 3, 3, 2, 2, 0, 0, 1, 3, 2])"
   ]
  },
  {
   "cell_type": "code",
   "execution_count": 8,
   "metadata": {},
   "outputs": [
    {
     "name": "stdout",
     "output_type": "stream",
     "text": [
      "observations:\n",
      " ['No Red Eyes, No Sleep in Class', 'No Red Eyes, No Sleep in Class', 'No Red Eyes, No Sleep in Class', 'No Red Eyes, Sleep in Class', 'No Red Eyes, Sleep in Class', 'Red Eyes, Sleep in Class', 'Red Eyes, Sleep in Class', 'Red Eyes, Sleep in Class', 'Red Eyes, Sleep in Class', 'Red Eyes, Sleep in Class', 'Red Eyes, Sleep in Class', 'Red Eyes, No Sleep in Class', 'No Red Eyes, No Sleep in Class', 'No Red Eyes, Sleep in Class']\n",
      "State Probability Distributions Over Time:\n",
      "                         0\n",
      "Enough Sleep      0.826625\n",
      "Not Enough Sleep  0.173375\n",
      "                         0\n",
      "Enough Sleep      0.924354\n",
      "Not Enough Sleep  0.075646\n",
      "                         0\n",
      "Enough Sleep      0.933038\n",
      "Not Enough Sleep  0.066962\n",
      "                         0\n",
      "Enough Sleep      0.877984\n",
      "Not Enough Sleep  0.122016\n",
      "                         0\n",
      "Enough Sleep      0.598745\n",
      "Not Enough Sleep  0.401255\n",
      "                         0\n",
      "Enough Sleep      0.359926\n",
      "Not Enough Sleep  0.640074\n",
      "                         0\n",
      "Enough Sleep      0.046829\n",
      "Not Enough Sleep  0.953171\n",
      "                         0\n",
      "Enough Sleep      0.017173\n",
      "Not Enough Sleep  0.982827\n",
      "                         0\n",
      "Enough Sleep      0.014379\n",
      "Not Enough Sleep  0.985621\n",
      "                         0\n",
      "Enough Sleep      0.014275\n",
      "Not Enough Sleep  0.985725\n",
      "                         0\n",
      "Enough Sleep      0.015964\n",
      "Not Enough Sleep  0.984036\n",
      "                        0\n",
      "Enough Sleep      0.03406\n",
      "Not Enough Sleep  0.96594\n",
      "                         0\n",
      "Enough Sleep      0.225124\n",
      "Not Enough Sleep  0.774876\n",
      "                         0\n",
      "Enough Sleep      0.658931\n",
      "Not Enough Sleep  0.341069\n",
      "                         0\n",
      "Enough Sleep      0.608375\n",
      "Not Enough Sleep  0.391625\n"
     ]
    }
   ],
   "source": [
    "run_country_dance(observations=[3, 3, 3, 2, 2, 0, 0, 0, 0, 0, 0, 1, 3, 2])"
   ]
  },
  {
   "cell_type": "code",
   "execution_count": 9,
   "metadata": {},
   "outputs": [
    {
     "name": "stdout",
     "output_type": "stream",
     "text": [
      "observations:\n",
      " ['No Red Eyes, No Sleep in Class', 'Red Eyes, No Sleep in Class', 'Red Eyes, Sleep in Class', 'No Red Eyes, Sleep in Class']\n",
      "State Probability Distributions Over Time:\n",
      "                         0\n",
      "Enough Sleep      0.735507\n",
      "Not Enough Sleep  0.264493\n",
      "                         0\n",
      "Enough Sleep      0.726931\n",
      "Not Enough Sleep  0.273069\n",
      "                         0\n",
      "Enough Sleep      0.272952\n",
      "Not Enough Sleep  0.727048\n",
      "                         0\n",
      "Enough Sleep      0.099047\n",
      "Not Enough Sleep  0.900953\n",
      "                         0\n",
      "Enough Sleep      0.325844\n",
      "Not Enough Sleep  0.674156\n"
     ]
    }
   ],
   "source": [
    "run_country_dance(observations=[3,1,0,2])"
   ]
  },
  {
   "cell_type": "code",
   "execution_count": 10,
   "metadata": {},
   "outputs": [
    {
     "name": "stdout",
     "output_type": "stream",
     "text": [
      "observations:\n",
      " ['No Red Eyes, No Sleep in Class', 'No Red Eyes, No Sleep in Class', 'No Red Eyes, No Sleep in Class', 'Red Eyes, Sleep in Class', 'Red Eyes, Sleep in Class', 'Red Eyes, Sleep in Class', 'Red Eyes, Sleep in Class', 'Red Eyes, Sleep in Class', 'Red Eyes, Sleep in Class', 'Red Eyes, Sleep in Class', 'Red Eyes, No Sleep in Class', 'No Red Eyes, Sleep in Class', 'No Red Eyes, No Sleep in Class', 'No Red Eyes, No Sleep in Class', 'No Red Eyes, Sleep in Class', 'No Red Eyes, Sleep in Class', 'No Red Eyes, Sleep in Class', 'No Red Eyes, Sleep in Class', 'No Red Eyes, Sleep in Class', 'No Red Eyes, Sleep in Class', 'No Red Eyes, Sleep in Class', 'Red Eyes, No Sleep in Class', 'Red Eyes, Sleep in Class']\n",
      "State Probability Distributions Over Time:\n",
      "                         0\n",
      "Enough Sleep      0.822787\n",
      "Not Enough Sleep  0.177213\n",
      "                         0\n",
      "Enough Sleep      0.916508\n",
      "Not Enough Sleep  0.083492\n",
      "                         0\n",
      "Enough Sleep      0.906982\n",
      "Not Enough Sleep  0.093018\n",
      "                         0\n",
      "Enough Sleep      0.766448\n",
      "Not Enough Sleep  0.233552\n",
      "                         0\n",
      "Enough Sleep      0.085335\n",
      "Not Enough Sleep  0.914665\n",
      "                         0\n",
      "Enough Sleep      0.020818\n",
      "Not Enough Sleep  0.979182\n",
      "                         0\n",
      "Enough Sleep      0.014708\n",
      "Not Enough Sleep  0.985292\n",
      "                         0\n",
      "Enough Sleep      0.014142\n",
      "Not Enough Sleep  0.985858\n",
      "                         0\n",
      "Enough Sleep      0.014219\n",
      "Not Enough Sleep  0.985781\n",
      "                         0\n",
      "Enough Sleep      0.015604\n",
      "Not Enough Sleep  0.984396\n",
      "                         0\n",
      "Enough Sleep      0.030276\n",
      "Not Enough Sleep  0.969724\n",
      "                         0\n",
      "Enough Sleep      0.185182\n",
      "Not Enough Sleep  0.814818\n",
      "                         0\n",
      "Enough Sleep      0.510846\n",
      "Not Enough Sleep  0.489154\n",
      "                         0\n",
      "Enough Sleep      0.834007\n",
      "Not Enough Sleep  0.165993\n",
      "                         0\n",
      "Enough Sleep      0.863978\n",
      "Not Enough Sleep  0.136022\n",
      "                         0\n",
      "Enough Sleep      0.688111\n",
      "Not Enough Sleep  0.311889\n",
      "                         0\n",
      "Enough Sleep      0.596788\n",
      "Not Enough Sleep  0.403212\n",
      "                         0\n",
      "Enough Sleep      0.546151\n",
      "Not Enough Sleep  0.453849\n",
      "                         0\n",
      "Enough Sleep      0.511878\n",
      "Not Enough Sleep  0.488122\n",
      "                        0\n",
      "Enough Sleep      0.47751\n",
      "Not Enough Sleep  0.52249\n",
      "                        0\n",
      "Enough Sleep      0.42654\n",
      "Not Enough Sleep  0.57346\n",
      "                         0\n",
      "Enough Sleep      0.334488\n",
      "Not Enough Sleep  0.665512\n",
      "                         0\n",
      "Enough Sleep      0.157144\n",
      "Not Enough Sleep  0.842856\n",
      "                         0\n",
      "Enough Sleep      0.076403\n",
      "Not Enough Sleep  0.923597\n"
     ]
    }
   ],
   "source": [
    "run_country_dance(observations=[3,3,3,0,0,0,0,0,0,0,1,2,3,3,2,2,2,2,2,2,2,1,0])"
   ]
  },
  {
   "cell_type": "code",
   "execution_count": 11,
   "metadata": {},
   "outputs": [
    {
     "name": "stdout",
     "output_type": "stream",
     "text": [
      "observations:\n",
      " ['No Red Eyes, Sleep in Class', 'No Red Eyes, Sleep in Class', 'No Red Eyes, Sleep in Class', 'No Red Eyes, Sleep in Class', 'No Red Eyes, Sleep in Class', 'No Red Eyes, Sleep in Class', 'No Red Eyes, Sleep in Class', 'No Red Eyes, Sleep in Class', 'No Red Eyes, Sleep in Class', 'No Red Eyes, Sleep in Class']\n",
      "State Probability Distributions Over Time:\n",
      "                         0\n",
      "Enough Sleep      0.674288\n",
      "Not Enough Sleep  0.325712\n",
      "                         0\n",
      "Enough Sleep      0.594291\n",
      "Not Enough Sleep  0.405709\n",
      "                         0\n",
      "Enough Sleep      0.553804\n",
      "Not Enough Sleep  0.446196\n",
      "                         0\n",
      "Enough Sleep      0.533384\n",
      "Not Enough Sleep  0.466616\n",
      "                         0\n",
      "Enough Sleep      0.523222\n",
      "Not Enough Sleep  0.476778\n",
      "                         0\n",
      "Enough Sleep      0.518439\n",
      "Not Enough Sleep  0.481561\n",
      "                         0\n",
      "Enough Sleep      0.516737\n",
      "Not Enough Sleep  0.483263\n",
      "                         0\n",
      "Enough Sleep      0.517298\n",
      "Not Enough Sleep  0.482702\n",
      "                         0\n",
      "Enough Sleep      0.520393\n",
      "Not Enough Sleep  0.479607\n",
      "                         0\n",
      "Enough Sleep      0.527506\n",
      "Not Enough Sleep  0.472494\n",
      "                         0\n",
      "Enough Sleep      0.542055\n",
      "Not Enough Sleep  0.457945\n"
     ]
    }
   ],
   "source": [
    "run_country_dance(observations=[2,2,2,2,2,2,2,2,2,2])"
   ]
  },
  {
   "cell_type": "code",
   "execution_count": 12,
   "metadata": {},
   "outputs": [
    {
     "name": "stdout",
     "output_type": "stream",
     "text": [
      "observations:\n",
      " ['No Red Eyes, No Sleep in Class', 'Red Eyes, No Sleep in Class', 'Red Eyes, Sleep in Class']\n",
      "State Probability Distributions Over Time:\n",
      "                         0\n",
      "Enough Sleep      0.735884\n",
      "Not Enough Sleep  0.264116\n",
      "                         0\n",
      "Enough Sleep      0.727748\n",
      "Not Enough Sleep  0.272252\n",
      "                         0\n",
      "Enough Sleep      0.275684\n",
      "Not Enough Sleep  0.724316\n",
      "                         0\n",
      "Enough Sleep      0.104455\n",
      "Not Enough Sleep  0.895545\n"
     ]
    }
   ],
   "source": [
    "run_country_dance(observations=[3,1,0])"
   ]
  }
 ],
 "metadata": {
  "kernelspec": {
   "display_name": "venv",
   "language": "python",
   "name": "python3"
  },
  "language_info": {
   "codemirror_mode": {
    "name": "ipython",
    "version": 3
   },
   "file_extension": ".py",
   "mimetype": "text/x-python",
   "name": "python",
   "nbconvert_exporter": "python",
   "pygments_lexer": "ipython3",
   "version": "3.10.16"
  }
 },
 "nbformat": 4,
 "nbformat_minor": 2
}
