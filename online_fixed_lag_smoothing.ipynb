{
 "cells": [
  {
   "cell_type": "code",
   "execution_count": 1,
   "metadata": {},
   "outputs": [],
   "source": [
    "from hidden_markov_helper import *\n",
    "from constants import *\n",
    "import pandas as pd\n",
    "\n",
    "def run_online_fixed_lag_smoothing(observations: list[int], offset: int):\n",
    "    \"\"\"Helper method to run the country dance smoothing algorithm for a probability distribution of each hidden state.\n",
    "\n",
    "    Args:\n",
    "        observations (list[int]): list of observations values\n",
    "    \"\"\"\n",
    "    print(\"observations:\\n\", [Observation_String_Map[e] for e in observations])\n",
    "    probabilities = fixed_lag_smoothing(observations=observations, offset=offset)\n",
    "    index_names = [\"Enough Sleep\", \"Not Enough Sleep\"]\n",
    "    print(\"State Probability Distributions Over Time:\")\n",
    "    for arr in probabilities:\n",
    "        print(pd.DataFrame(arr, index=index_names))"
   ]
  },
  {
   "cell_type": "code",
   "execution_count": 2,
   "metadata": {},
   "outputs": [
    {
     "name": "stdout",
     "output_type": "stream",
     "text": [
      "observations:\n",
      " ['No Red Eyes, No Sleep in Class', 'Red Eyes, No Sleep in Class']\n",
      "State Probability Distributions Over Time:\n",
      "                         0\n",
      "Enough Sleep      0.795139\n",
      "Not Enough Sleep  0.204861\n",
      "                         0\n",
      "Enough Sleep      0.501006\n",
      "Not Enough Sleep  0.498994\n"
     ]
    }
   ],
   "source": [
    "run_online_fixed_lag_smoothing(observations=[3,1], offset=1)"
   ]
  },
  {
   "cell_type": "code",
   "execution_count": 3,
   "metadata": {},
   "outputs": [
    {
     "name": "stdout",
     "output_type": "stream",
     "text": [
      "observations:\n",
      " ['Red Eyes, No Sleep in Class', 'Red Eyes, No Sleep in Class', 'Red Eyes, No Sleep in Class', 'Red Eyes, Sleep in Class', 'Red Eyes, No Sleep in Class', 'Red Eyes, Sleep in Class', 'No Red Eyes, Sleep in Class', 'Red Eyes, No Sleep in Class', 'No Red Eyes, No Sleep in Class', 'No Red Eyes, No Sleep in Class']\n",
      "State Probability Distributions Over Time:\n",
      "                         0\n",
      "Enough Sleep      0.228168\n",
      "Not Enough Sleep  0.771832\n",
      "                         0\n",
      "Enough Sleep      0.131569\n",
      "Not Enough Sleep  0.868431\n",
      "                         0\n",
      "Enough Sleep      0.084508\n",
      "Not Enough Sleep  0.915492\n",
      "                         0\n",
      "Enough Sleep      0.026966\n",
      "Not Enough Sleep  0.973034\n",
      "                         0\n",
      "Enough Sleep      0.060634\n",
      "Not Enough Sleep  0.939366\n",
      "                        0\n",
      "Enough Sleep      0.04595\n",
      "Not Enough Sleep  0.95405\n",
      "                         0\n",
      "Enough Sleep      0.269434\n",
      "Not Enough Sleep  0.730566\n",
      "                         0\n",
      "Enough Sleep      0.374749\n",
      "Not Enough Sleep  0.625251\n",
      "                         0\n",
      "Enough Sleep      0.806047\n",
      "Not Enough Sleep  0.193953\n",
      "                         0\n",
      "Enough Sleep      0.866677\n",
      "Not Enough Sleep  0.133323\n"
     ]
    }
   ],
   "source": [
    "run_online_fixed_lag_smoothing(observations=[1, 1, 1, 0, 1, 0, 2, 1, 3, 3], offset=3)"
   ]
  },
  {
   "cell_type": "code",
   "execution_count": 4,
   "metadata": {},
   "outputs": [
    {
     "name": "stdout",
     "output_type": "stream",
     "text": [
      "observations:\n",
      " ['Red Eyes, No Sleep in Class', 'Red Eyes, No Sleep in Class', 'Red Eyes, No Sleep in Class', 'Red Eyes, Sleep in Class', 'Red Eyes, No Sleep in Class', 'Red Eyes, Sleep in Class', 'No Red Eyes, Sleep in Class', 'Red Eyes, No Sleep in Class', 'No Red Eyes, No Sleep in Class', 'No Red Eyes, No Sleep in Class']\n",
      "State Probability Distributions Over Time:\n",
      "                         0\n",
      "Enough Sleep      0.226562\n",
      "Not Enough Sleep  0.773438\n",
      "                         0\n",
      "Enough Sleep      0.129889\n",
      "Not Enough Sleep  0.870111\n",
      "                        0\n",
      "Enough Sleep      0.08447\n",
      "Not Enough Sleep  0.91553\n",
      "                         0\n",
      "Enough Sleep      0.026568\n",
      "Not Enough Sleep  0.973432\n",
      "                         0\n",
      "Enough Sleep      0.062118\n",
      "Not Enough Sleep  0.937882\n",
      "                         0\n",
      "Enough Sleep      0.047713\n",
      "Not Enough Sleep  0.952287\n",
      "                         0\n",
      "Enough Sleep      0.269434\n",
      "Not Enough Sleep  0.730566\n",
      "                         0\n",
      "Enough Sleep      0.374749\n",
      "Not Enough Sleep  0.625251\n",
      "                         0\n",
      "Enough Sleep      0.806047\n",
      "Not Enough Sleep  0.193953\n",
      "                         0\n",
      "Enough Sleep      0.866677\n",
      "Not Enough Sleep  0.133323\n"
     ]
    }
   ],
   "source": [
    "run_online_fixed_lag_smoothing(observations=[1, 1, 1, 0, 1, 0, 2, 1, 3, 3], offset=4)"
   ]
  },
  {
   "cell_type": "code",
   "execution_count": 5,
   "metadata": {},
   "outputs": [
    {
     "name": "stdout",
     "output_type": "stream",
     "text": [
      "observations:\n",
      " ['No Red Eyes, No Sleep in Class', 'No Red Eyes, No Sleep in Class', 'No Red Eyes, No Sleep in Class', 'No Red Eyes, Sleep in Class', 'No Red Eyes, Sleep in Class', 'Red Eyes, Sleep in Class', 'Red Eyes, Sleep in Class', 'Red Eyes, No Sleep in Class', 'No Red Eyes, No Sleep in Class', 'No Red Eyes, Sleep in Class']\n",
      "State Probability Distributions Over Time:\n",
      "                         0\n",
      "Enough Sleep      0.926401\n",
      "Not Enough Sleep  0.073599\n",
      "                         0\n",
      "Enough Sleep      0.939287\n",
      "Not Enough Sleep  0.060713\n",
      "                        0\n",
      "Enough Sleep      0.88208\n",
      "Not Enough Sleep  0.11792\n",
      "                         0\n",
      "Enough Sleep      0.600641\n",
      "Not Enough Sleep  0.399359\n",
      "                         0\n",
      "Enough Sleep      0.361815\n",
      "Not Enough Sleep  0.638185\n",
      "                         0\n",
      "Enough Sleep      0.052997\n",
      "Not Enough Sleep  0.947003\n",
      "                         0\n",
      "Enough Sleep      0.041387\n",
      "Not Enough Sleep  0.958613\n",
      "                         0\n",
      "Enough Sleep      0.228804\n",
      "Not Enough Sleep  0.771196\n",
      "                         0\n",
      "Enough Sleep      0.660209\n",
      "Not Enough Sleep  0.339791\n",
      "                         0\n",
      "Enough Sleep      0.609021\n",
      "Not Enough Sleep  0.390979\n"
     ]
    }
   ],
   "source": [
    "run_online_fixed_lag_smoothing(observations=[3, 3, 3, 2, 2, 0, 0, 1, 3, 2], offset=3)"
   ]
  },
  {
   "cell_type": "code",
   "execution_count": 6,
   "metadata": {},
   "outputs": [
    {
     "name": "stdout",
     "output_type": "stream",
     "text": [
      "observations:\n",
      " ['No Red Eyes, No Sleep in Class', 'No Red Eyes, No Sleep in Class', 'No Red Eyes, No Sleep in Class', 'No Red Eyes, Sleep in Class', 'No Red Eyes, Sleep in Class', 'Red Eyes, Sleep in Class', 'Red Eyes, Sleep in Class', 'Red Eyes, No Sleep in Class', 'No Red Eyes, No Sleep in Class', 'No Red Eyes, Sleep in Class']\n",
      "State Probability Distributions Over Time:\n",
      "                        0\n",
      "Enough Sleep      0.92464\n",
      "Not Enough Sleep  0.07536\n",
      "                         0\n",
      "Enough Sleep      0.933134\n",
      "Not Enough Sleep  0.066866\n",
      "                         0\n",
      "Enough Sleep      0.878164\n",
      "Not Enough Sleep  0.121836\n",
      "                         0\n",
      "Enough Sleep      0.600071\n",
      "Not Enough Sleep  0.399929\n",
      "                         0\n",
      "Enough Sleep      0.362892\n",
      "Not Enough Sleep  0.637108\n",
      "                         0\n",
      "Enough Sleep      0.052895\n",
      "Not Enough Sleep  0.947105\n",
      "                         0\n",
      "Enough Sleep      0.041387\n",
      "Not Enough Sleep  0.958613\n",
      "                         0\n",
      "Enough Sleep      0.228804\n",
      "Not Enough Sleep  0.771196\n",
      "                         0\n",
      "Enough Sleep      0.660209\n",
      "Not Enough Sleep  0.339791\n",
      "                         0\n",
      "Enough Sleep      0.609021\n",
      "Not Enough Sleep  0.390979\n"
     ]
    }
   ],
   "source": [
    "run_online_fixed_lag_smoothing(observations=[3, 3, 3, 2, 2, 0, 0, 1, 3, 2], offset=5)"
   ]
  },
  {
   "cell_type": "code",
   "execution_count": 7,
   "metadata": {},
   "outputs": [
    {
     "name": "stdout",
     "output_type": "stream",
     "text": [
      "observations:\n",
      " ['No Red Eyes, No Sleep in Class', 'No Red Eyes, No Sleep in Class', 'No Red Eyes, No Sleep in Class', 'No Red Eyes, Sleep in Class', 'No Red Eyes, Sleep in Class', 'Red Eyes, Sleep in Class', 'Red Eyes, Sleep in Class', 'Red Eyes, Sleep in Class', 'Red Eyes, Sleep in Class', 'Red Eyes, Sleep in Class', 'Red Eyes, Sleep in Class', 'Red Eyes, No Sleep in Class', 'No Red Eyes, No Sleep in Class', 'No Red Eyes, Sleep in Class']\n",
      "State Probability Distributions Over Time:\n",
      "                         0\n",
      "Enough Sleep      0.924357\n",
      "Not Enough Sleep  0.075643\n",
      "                         0\n",
      "Enough Sleep      0.933038\n",
      "Not Enough Sleep  0.066962\n",
      "                         0\n",
      "Enough Sleep      0.877984\n",
      "Not Enough Sleep  0.122016\n",
      "                         0\n",
      "Enough Sleep      0.598745\n",
      "Not Enough Sleep  0.401255\n",
      "                         0\n",
      "Enough Sleep      0.359926\n",
      "Not Enough Sleep  0.640074\n",
      "                         0\n",
      "Enough Sleep      0.046829\n",
      "Not Enough Sleep  0.953171\n",
      "                         0\n",
      "Enough Sleep      0.017173\n",
      "Not Enough Sleep  0.982827\n",
      "                         0\n",
      "Enough Sleep      0.014379\n",
      "Not Enough Sleep  0.985621\n",
      "                         0\n",
      "Enough Sleep      0.014275\n",
      "Not Enough Sleep  0.985725\n",
      "                         0\n",
      "Enough Sleep      0.015964\n",
      "Not Enough Sleep  0.984036\n",
      "                        0\n",
      "Enough Sleep      0.03406\n",
      "Not Enough Sleep  0.96594\n",
      "                         0\n",
      "Enough Sleep      0.225124\n",
      "Not Enough Sleep  0.774876\n",
      "                         0\n",
      "Enough Sleep      0.658931\n",
      "Not Enough Sleep  0.341069\n",
      "                         0\n",
      "Enough Sleep      0.608375\n",
      "Not Enough Sleep  0.391625\n"
     ]
    }
   ],
   "source": [
    "run_online_fixed_lag_smoothing(observations=[3, 3, 3, 2, 2, 0, 0, 0, 0, 0, 0, 1, 3, 2], offset=7)"
   ]
  },
  {
   "cell_type": "code",
   "execution_count": 8,
   "metadata": {},
   "outputs": [
    {
     "name": "stdout",
     "output_type": "stream",
     "text": [
      "observations:\n",
      " ['No Red Eyes, No Sleep in Class', 'Red Eyes, No Sleep in Class', 'Red Eyes, Sleep in Class', 'No Red Eyes, Sleep in Class']\n",
      "State Probability Distributions Over Time:\n",
      "                         0\n",
      "Enough Sleep      0.727748\n",
      "Not Enough Sleep  0.272252\n",
      "                         0\n",
      "Enough Sleep      0.272952\n",
      "Not Enough Sleep  0.727048\n",
      "                         0\n",
      "Enough Sleep      0.099047\n",
      "Not Enough Sleep  0.900953\n",
      "                         0\n",
      "Enough Sleep      0.325844\n",
      "Not Enough Sleep  0.674156\n"
     ]
    }
   ],
   "source": [
    "run_online_fixed_lag_smoothing(observations=[3,1,0,2], offset=2)"
   ]
  },
  {
   "cell_type": "code",
   "execution_count": 9,
   "metadata": {},
   "outputs": [
    {
     "name": "stdout",
     "output_type": "stream",
     "text": [
      "observations:\n",
      " ['No Red Eyes, No Sleep in Class', 'No Red Eyes, No Sleep in Class', 'No Red Eyes, No Sleep in Class', 'Red Eyes, Sleep in Class', 'Red Eyes, Sleep in Class', 'Red Eyes, Sleep in Class', 'Red Eyes, Sleep in Class', 'Red Eyes, Sleep in Class', 'Red Eyes, Sleep in Class', 'Red Eyes, Sleep in Class', 'Red Eyes, No Sleep in Class', 'No Red Eyes, Sleep in Class', 'No Red Eyes, No Sleep in Class', 'No Red Eyes, No Sleep in Class', 'No Red Eyes, Sleep in Class', 'No Red Eyes, Sleep in Class', 'No Red Eyes, Sleep in Class', 'No Red Eyes, Sleep in Class', 'No Red Eyes, Sleep in Class', 'No Red Eyes, Sleep in Class', 'No Red Eyes, Sleep in Class', 'Red Eyes, No Sleep in Class', 'Red Eyes, Sleep in Class']\n",
      "State Probability Distributions Over Time:\n",
      "                         0\n",
      "Enough Sleep      0.916567\n",
      "Not Enough Sleep  0.083433\n",
      "                         0\n",
      "Enough Sleep      0.907002\n",
      "Not Enough Sleep  0.092998\n",
      "                         0\n",
      "Enough Sleep      0.766458\n",
      "Not Enough Sleep  0.233542\n",
      "                         0\n",
      "Enough Sleep      0.085336\n",
      "Not Enough Sleep  0.914664\n",
      "                         0\n",
      "Enough Sleep      0.020819\n",
      "Not Enough Sleep  0.979181\n",
      "                         0\n",
      "Enough Sleep      0.014708\n",
      "Not Enough Sleep  0.985292\n",
      "                         0\n",
      "Enough Sleep      0.014142\n",
      "Not Enough Sleep  0.985858\n",
      "                         0\n",
      "Enough Sleep      0.014219\n",
      "Not Enough Sleep  0.985781\n",
      "                         0\n",
      "Enough Sleep      0.015604\n",
      "Not Enough Sleep  0.984396\n",
      "                         0\n",
      "Enough Sleep      0.030282\n",
      "Not Enough Sleep  0.969718\n",
      "                         0\n",
      "Enough Sleep      0.185232\n",
      "Not Enough Sleep  0.814768\n",
      "                         0\n",
      "Enough Sleep      0.511008\n",
      "Not Enough Sleep  0.488992\n",
      "                         0\n",
      "Enough Sleep      0.834155\n",
      "Not Enough Sleep  0.165845\n",
      "                         0\n",
      "Enough Sleep      0.863978\n",
      "Not Enough Sleep  0.136022\n",
      "                         0\n",
      "Enough Sleep      0.688111\n",
      "Not Enough Sleep  0.311889\n",
      "                         0\n",
      "Enough Sleep      0.596788\n",
      "Not Enough Sleep  0.403212\n",
      "                         0\n",
      "Enough Sleep      0.546151\n",
      "Not Enough Sleep  0.453849\n",
      "                         0\n",
      "Enough Sleep      0.511878\n",
      "Not Enough Sleep  0.488122\n",
      "                        0\n",
      "Enough Sleep      0.47751\n",
      "Not Enough Sleep  0.52249\n",
      "                        0\n",
      "Enough Sleep      0.42654\n",
      "Not Enough Sleep  0.57346\n",
      "                         0\n",
      "Enough Sleep      0.334488\n",
      "Not Enough Sleep  0.665512\n",
      "                         0\n",
      "Enough Sleep      0.157144\n",
      "Not Enough Sleep  0.842856\n",
      "                         0\n",
      "Enough Sleep      0.076403\n",
      "Not Enough Sleep  0.923597\n"
     ]
    }
   ],
   "source": [
    "run_online_fixed_lag_smoothing(observations=[3,3,3,0,0,0,0,0,0,0,1,2,3,3,2,2,2,2,2,2,2,1,0], offset=9)"
   ]
  },
  {
   "cell_type": "code",
   "execution_count": 10,
   "metadata": {},
   "outputs": [
    {
     "name": "stdout",
     "output_type": "stream",
     "text": [
      "observations:\n",
      " ['No Red Eyes, No Sleep in Class', 'Red Eyes, No Sleep in Class', 'Red Eyes, Sleep in Class']\n",
      "State Probability Distributions Over Time:\n",
      "                         0\n",
      "Enough Sleep      0.795139\n",
      "Not Enough Sleep  0.204861\n",
      "                         0\n",
      "Enough Sleep      0.275684\n",
      "Not Enough Sleep  0.724316\n",
      "                         0\n",
      "Enough Sleep      0.104455\n",
      "Not Enough Sleep  0.895545\n"
     ]
    }
   ],
   "source": [
    "run_online_fixed_lag_smoothing(observations=[3,1,0], offset=1)"
   ]
  }
 ],
 "metadata": {
  "kernelspec": {
   "display_name": "venv",
   "language": "python",
   "name": "python3"
  },
  "language_info": {
   "codemirror_mode": {
    "name": "ipython",
    "version": 3
   },
   "file_extension": ".py",
   "mimetype": "text/x-python",
   "name": "python",
   "nbconvert_exporter": "python",
   "pygments_lexer": "ipython3",
   "version": "3.10.16"
  }
 },
 "nbformat": 4,
 "nbformat_minor": 2
}
