{
 "cells": [
  {
   "cell_type": "code",
   "execution_count": 3,
   "metadata": {},
   "outputs": [],
   "source": [
    "from hidden_markov_helper import *\n",
    "from constants import *\n",
    "\n",
    "def run_viterbi(evidence: list[int]):\n",
    "    \"\"\"Helper method to run the forward viterbi algorithm for most likely series of hidden state values.\n",
    "\n",
    "    Args:\n",
    "        evidence (list[int]): list of evidence values\n",
    "    \"\"\"\n",
    "    print(\"Evidence:\\n\", [Observation_String_Map[e] for e in evidence])\n",
    "    hidden_states = viterbi(evidence)\n",
    "    print(\"Most likely Hidden States:\\n\", [State_String_Map[h] for h in hidden_states])"
   ]
  },
  {
   "cell_type": "code",
   "execution_count": 11,
   "metadata": {},
   "outputs": [
    {
     "name": "stdout",
     "output_type": "stream",
     "text": [
      "Evidence:\n",
      " ['Red Eyes, Sleep in Class', 'Red Eyes, Sleep in Class', 'Red Eyes, Sleep in Class', 'Red Eyes, Sleep in Class', 'Red Eyes, Sleep in Class', 'Red Eyes, Sleep in Class', 'Red Eyes, Sleep in Class', 'Red Eyes, Sleep in Class', 'Red Eyes, Sleep in Class', 'Red Eyes, Sleep in Class']\n",
      "Most likely Hidden States:\n",
      " ['Not Sleeping Enough', 'Not Sleeping Enough', 'Not Sleeping Enough', 'Not Sleeping Enough', 'Not Sleeping Enough', 'Not Sleeping Enough', 'Not Sleeping Enough', 'Not Sleeping Enough', 'Not Sleeping Enough', 'Not Sleeping Enough', 'Not Sleeping Enough']\n"
     ]
    }
   ],
   "source": [
    "run_viterbi(evidence=[0, 0, 0, 0, 0, 0, 0, 0, 0, 0])"
   ]
  },
  {
   "cell_type": "code",
   "execution_count": 5,
   "metadata": {},
   "outputs": [
    {
     "name": "stdout",
     "output_type": "stream",
     "text": [
      "Evidence:\n",
      " ['Red Eyes, No Sleep in Class', 'Red Eyes, No Sleep in Class', 'Red Eyes, No Sleep in Class', 'Red Eyes, Sleep in Class', 'Red Eyes, No Sleep in Class', 'Red Eyes, Sleep in Class', 'No Red Eyes, Sleep in Class', 'Red Eyes, No Sleep in Class', 'No Red Eyes, No Sleep in Class', 'No Red Eyes, No Sleep in Class']\n",
      "Most likely Hidden States:\n",
      " ['Not Sleeping Enough', 'Not Sleeping Enough', 'Not Sleeping Enough', 'Not Sleeping Enough', 'Not Sleeping Enough', 'Not Sleeping Enough', 'Not Sleeping Enough', 'Not Sleeping Enough', 'Not Sleeping Enough', 'Sleeping Enough', 'Sleeping Enough']\n"
     ]
    }
   ],
   "source": [
    "run_viterbi(evidence=[1, 1, 1, 0, 1, 0, 2, 1, 3, 3])"
   ]
  },
  {
   "cell_type": "code",
   "execution_count": 6,
   "metadata": {},
   "outputs": [
    {
     "name": "stdout",
     "output_type": "stream",
     "text": [
      "Evidence:\n",
      " ['No Red Eyes, No Sleep in Class', 'No Red Eyes, No Sleep in Class', 'No Red Eyes, No Sleep in Class', 'No Red Eyes, Sleep in Class', 'No Red Eyes, Sleep in Class', 'Red Eyes, Sleep in Class', 'Red Eyes, Sleep in Class', 'Red Eyes, No Sleep in Class', 'No Red Eyes, No Sleep in Class', 'No Red Eyes, Sleep in Class']\n",
      "Most likely Hidden States:\n",
      " ['Sleeping Enough', 'Sleeping Enough', 'Sleeping Enough', 'Sleeping Enough', 'Sleeping Enough', 'Sleeping Enough', 'Not Sleeping Enough', 'Not Sleeping Enough', 'Not Sleeping Enough', 'Sleeping Enough', 'Sleeping Enough']\n"
     ]
    }
   ],
   "source": [
    "run_viterbi(evidence=[3, 3, 3, 2, 2, 0, 0, 1, 3, 2])"
   ]
  },
  {
   "cell_type": "code",
   "execution_count": 7,
   "metadata": {},
   "outputs": [
    {
     "name": "stdout",
     "output_type": "stream",
     "text": [
      "Evidence:\n",
      " ['No Red Eyes, No Sleep in Class', 'No Red Eyes, No Sleep in Class', 'No Red Eyes, No Sleep in Class', 'No Red Eyes, Sleep in Class', 'No Red Eyes, Sleep in Class', 'Red Eyes, Sleep in Class', 'Red Eyes, Sleep in Class', 'Red Eyes, Sleep in Class', 'Red Eyes, Sleep in Class', 'Red Eyes, Sleep in Class', 'Red Eyes, Sleep in Class', 'Red Eyes, No Sleep in Class', 'No Red Eyes, No Sleep in Class', 'No Red Eyes, Sleep in Class']\n",
      "Most likely Hidden States:\n",
      " ['Sleeping Enough', 'Sleeping Enough', 'Sleeping Enough', 'Sleeping Enough', 'Sleeping Enough', 'Sleeping Enough', 'Not Sleeping Enough', 'Not Sleeping Enough', 'Not Sleeping Enough', 'Not Sleeping Enough', 'Not Sleeping Enough', 'Not Sleeping Enough', 'Not Sleeping Enough', 'Sleeping Enough', 'Sleeping Enough']\n"
     ]
    }
   ],
   "source": [
    "run_viterbi(evidence=[3, 3, 3, 2, 2, 0, 0, 0, 0, 0, 0, 1, 3, 2])"
   ]
  },
  {
   "cell_type": "code",
   "execution_count": 8,
   "metadata": {},
   "outputs": [
    {
     "name": "stdout",
     "output_type": "stream",
     "text": [
      "Evidence:\n",
      " ['No Red Eyes, No Sleep in Class', 'Red Eyes, No Sleep in Class', 'Red Eyes, Sleep in Class', 'No Red Eyes, Sleep in Class']\n",
      "Most likely Hidden States:\n",
      " ['Sleeping Enough', 'Sleeping Enough', 'Not Sleeping Enough', 'Not Sleeping Enough', 'Not Sleeping Enough']\n"
     ]
    }
   ],
   "source": [
    "run_viterbi(evidence=[3,1,0,2])"
   ]
  },
  {
   "cell_type": "code",
   "execution_count": 9,
   "metadata": {},
   "outputs": [
    {
     "name": "stdout",
     "output_type": "stream",
     "text": [
      "Evidence:\n",
      " ['No Red Eyes, No Sleep in Class', 'No Red Eyes, No Sleep in Class', 'No Red Eyes, No Sleep in Class', 'Red Eyes, Sleep in Class', 'Red Eyes, Sleep in Class', 'Red Eyes, Sleep in Class', 'Red Eyes, Sleep in Class', 'Red Eyes, Sleep in Class', 'Red Eyes, Sleep in Class', 'Red Eyes, Sleep in Class', 'Red Eyes, No Sleep in Class', 'No Red Eyes, Sleep in Class', 'No Red Eyes, No Sleep in Class', 'No Red Eyes, No Sleep in Class', 'No Red Eyes, Sleep in Class', 'No Red Eyes, Sleep in Class', 'No Red Eyes, Sleep in Class', 'No Red Eyes, Sleep in Class', 'No Red Eyes, Sleep in Class', 'No Red Eyes, Sleep in Class', 'No Red Eyes, Sleep in Class', 'Red Eyes, No Sleep in Class', 'Red Eyes, Sleep in Class']\n",
      "Most likely Hidden States:\n",
      " ['Sleeping Enough', 'Sleeping Enough', 'Sleeping Enough', 'Sleeping Enough', 'Not Sleeping Enough', 'Not Sleeping Enough', 'Not Sleeping Enough', 'Not Sleeping Enough', 'Not Sleeping Enough', 'Not Sleeping Enough', 'Not Sleeping Enough', 'Not Sleeping Enough', 'Sleeping Enough', 'Sleeping Enough', 'Sleeping Enough', 'Sleeping Enough', 'Sleeping Enough', 'Sleeping Enough', 'Sleeping Enough', 'Sleeping Enough', 'Sleeping Enough', 'Sleeping Enough', 'Not Sleeping Enough', 'Not Sleeping Enough']\n"
     ]
    }
   ],
   "source": [
    "run_viterbi(evidence=[3,3,3,0,0,0,0,0,0,0,1,2,3,3,2,2,2,2,2,2,2,1,0])"
   ]
  },
  {
   "cell_type": "code",
   "execution_count": 10,
   "metadata": {},
   "outputs": [
    {
     "name": "stdout",
     "output_type": "stream",
     "text": [
      "Evidence:\n",
      " ['No Red Eyes, Sleep in Class', 'No Red Eyes, Sleep in Class', 'No Red Eyes, Sleep in Class', 'No Red Eyes, Sleep in Class', 'No Red Eyes, Sleep in Class', 'No Red Eyes, Sleep in Class', 'No Red Eyes, Sleep in Class', 'No Red Eyes, Sleep in Class', 'No Red Eyes, Sleep in Class', 'No Red Eyes, Sleep in Class']\n",
      "Most likely Hidden States:\n",
      " ['Sleeping Enough', 'Sleeping Enough', 'Sleeping Enough', 'Sleeping Enough', 'Sleeping Enough', 'Sleeping Enough', 'Sleeping Enough', 'Sleeping Enough', 'Sleeping Enough', 'Sleeping Enough', 'Sleeping Enough']\n"
     ]
    }
   ],
   "source": [
    "run_viterbi(evidence=[2,2,2,2,2,2,2,2,2,2])"
   ]
  }
 ],
 "metadata": {
  "kernelspec": {
   "display_name": "venv",
   "language": "python",
   "name": "python3"
  },
  "language_info": {
   "codemirror_mode": {
    "name": "ipython",
    "version": 3
   },
   "file_extension": ".py",
   "mimetype": "text/x-python",
   "name": "python",
   "nbconvert_exporter": "python",
   "pygments_lexer": "ipython3",
   "version": "3.10.16"
  }
 },
 "nbformat": 4,
 "nbformat_minor": 2
}
